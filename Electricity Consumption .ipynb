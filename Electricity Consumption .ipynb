{
 "cells": [
  {
   "cell_type": "code",
   "execution_count": 207,
   "metadata": {},
   "outputs": [
    {
     "data": {
      "text/html": [
       "<script>requirejs.config({paths: { 'plotly': ['https://cdn.plot.ly/plotly-latest.min']},});if(!window.Plotly) {{require(['plotly'],function(plotly) {window.Plotly=plotly;});}}</script>"
      ],
      "text/vnd.plotly.v1+html": [
       "<script>requirejs.config({paths: { 'plotly': ['https://cdn.plot.ly/plotly-latest.min']},});if(!window.Plotly) {{require(['plotly'],function(plotly) {window.Plotly=plotly;});}}</script>"
      ]
     },
     "metadata": {},
     "output_type": "display_data"
    }
   ],
   "source": [
    "# data analysis and wrangling\n",
    "import pandas as pd\n",
    "import numpy as np\n",
    "import random as rnd\n",
    "\n",
    "\n",
    "# visualization\n",
    "import seaborn as sns\n",
    "import matplotlib.pyplot as plt\n",
    "%matplotlib inline\n",
    "\n",
    "# Import statements required for Plotly \n",
    "import plotly.offline as py\n",
    "py.init_notebook_mode(connected=True)\n",
    "import plotly.graph_objs as go\n",
    "import plotly.tools as tls\n",
    "\n",
    "# machine learning\n",
    "\n",
    "from sklearn.ensemble import RandomForestClassifier\n",
    "from sklearn.preprocessing import LabelEncoder\n",
    "from sklearn.linear_model import LogisticRegression\n",
    "from imblearn.over_sampling import SMOTE\n",
    "\n",
    "\n",
    "# Import and suppress warnings\n",
    "import warnings\n",
    "warnings.filterwarnings('ignore')"
   ]
  },
  {
   "cell_type": "code",
   "execution_count": 267,
   "metadata": {},
   "outputs": [],
   "source": [
    "data = pd.read_csv('electricity.csv')"
   ]
  },
  {
   "cell_type": "code",
   "execution_count": 268,
   "metadata": {},
   "outputs": [
    {
     "data": {
      "text/html": [
       "<div>\n",
       "<style scoped>\n",
       "    .dataframe tbody tr th:only-of-type {\n",
       "        vertical-align: middle;\n",
       "    }\n",
       "\n",
       "    .dataframe tbody tr th {\n",
       "        vertical-align: top;\n",
       "    }\n",
       "\n",
       "    .dataframe thead th {\n",
       "        text-align: right;\n",
       "    }\n",
       "</style>\n",
       "<table border=\"1\" class=\"dataframe\">\n",
       "  <thead>\n",
       "    <tr style=\"text-align: right;\">\n",
       "      <th></th>\n",
       "      <th>ID</th>\n",
       "      <th>datetime</th>\n",
       "      <th>temperature</th>\n",
       "      <th>var1</th>\n",
       "      <th>pressure</th>\n",
       "      <th>windspeed</th>\n",
       "      <th>var2</th>\n",
       "      <th>electricity_consumption</th>\n",
       "    </tr>\n",
       "  </thead>\n",
       "  <tbody>\n",
       "    <tr>\n",
       "      <th>0</th>\n",
       "      <td>0</td>\n",
       "      <td>2013-07-01 00:00:00</td>\n",
       "      <td>-11.4</td>\n",
       "      <td>-17.1</td>\n",
       "      <td>1003.0</td>\n",
       "      <td>571.910</td>\n",
       "      <td>A</td>\n",
       "      <td>216.0</td>\n",
       "    </tr>\n",
       "    <tr>\n",
       "      <th>1</th>\n",
       "      <td>1</td>\n",
       "      <td>2013-07-01 01:00:00</td>\n",
       "      <td>-12.1</td>\n",
       "      <td>-19.3</td>\n",
       "      <td>996.0</td>\n",
       "      <td>575.040</td>\n",
       "      <td>A</td>\n",
       "      <td>210.0</td>\n",
       "    </tr>\n",
       "    <tr>\n",
       "      <th>2</th>\n",
       "      <td>2</td>\n",
       "      <td>2013-07-01 02:00:00</td>\n",
       "      <td>-12.9</td>\n",
       "      <td>-20.0</td>\n",
       "      <td>1000.0</td>\n",
       "      <td>578.435</td>\n",
       "      <td>A</td>\n",
       "      <td>225.0</td>\n",
       "    </tr>\n",
       "    <tr>\n",
       "      <th>3</th>\n",
       "      <td>3</td>\n",
       "      <td>2013-07-01 03:00:00</td>\n",
       "      <td>-11.4</td>\n",
       "      <td>-17.1</td>\n",
       "      <td>995.0</td>\n",
       "      <td>582.580</td>\n",
       "      <td>A</td>\n",
       "      <td>216.0</td>\n",
       "    </tr>\n",
       "    <tr>\n",
       "      <th>4</th>\n",
       "      <td>4</td>\n",
       "      <td>2013-07-01 04:00:00</td>\n",
       "      <td>-11.4</td>\n",
       "      <td>-19.3</td>\n",
       "      <td>1005.0</td>\n",
       "      <td>586.600</td>\n",
       "      <td>A</td>\n",
       "      <td>222.0</td>\n",
       "    </tr>\n",
       "  </tbody>\n",
       "</table>\n",
       "</div>"
      ],
      "text/plain": [
       "   ID             datetime  temperature  var1  pressure  windspeed var2  \\\n",
       "0   0  2013-07-01 00:00:00        -11.4 -17.1    1003.0    571.910    A   \n",
       "1   1  2013-07-01 01:00:00        -12.1 -19.3     996.0    575.040    A   \n",
       "2   2  2013-07-01 02:00:00        -12.9 -20.0    1000.0    578.435    A   \n",
       "3   3  2013-07-01 03:00:00        -11.4 -17.1     995.0    582.580    A   \n",
       "4   4  2013-07-01 04:00:00        -11.4 -19.3    1005.0    586.600    A   \n",
       "\n",
       "   electricity_consumption  \n",
       "0                    216.0  \n",
       "1                    210.0  \n",
       "2                    225.0  \n",
       "3                    216.0  \n",
       "4                    222.0  "
      ]
     },
     "execution_count": 268,
     "metadata": {},
     "output_type": "execute_result"
    }
   ],
   "source": [
    "data.head()"
   ]
  },
  {
   "cell_type": "code",
   "execution_count": 269,
   "metadata": {},
   "outputs": [
    {
     "name": "stdout",
     "output_type": "stream",
     "text": [
      "<class 'pandas.core.frame.DataFrame'>\n",
      "RangeIndex: 26496 entries, 0 to 26495\n",
      "Data columns (total 8 columns):\n",
      "ID                         26496 non-null int64\n",
      "datetime                   26496 non-null object\n",
      "temperature                26496 non-null float64\n",
      "var1                       26496 non-null float64\n",
      "pressure                   26496 non-null float64\n",
      "windspeed                  26496 non-null float64\n",
      "var2                       26496 non-null object\n",
      "electricity_consumption    26496 non-null float64\n",
      "dtypes: float64(5), int64(1), object(2)\n",
      "memory usage: 1.6+ MB\n"
     ]
    }
   ],
   "source": [
    "data.info()"
   ]
  },
  {
   "cell_type": "code",
   "execution_count": 270,
   "metadata": {},
   "outputs": [],
   "source": [
    "data['datetime'] = pd.to_datetime(data['datetime']) # convert to date time type "
   ]
  },
  {
   "cell_type": "code",
   "execution_count": 271,
   "metadata": {},
   "outputs": [
    {
     "data": {
      "text/plain": [
       "(26496, 8)"
      ]
     },
     "execution_count": 271,
     "metadata": {},
     "output_type": "execute_result"
    }
   ],
   "source": [
    "data.shape"
   ]
  },
  {
   "cell_type": "code",
   "execution_count": 272,
   "metadata": {},
   "outputs": [
    {
     "data": {
      "text/html": [
       "<div>\n",
       "<style scoped>\n",
       "    .dataframe tbody tr th:only-of-type {\n",
       "        vertical-align: middle;\n",
       "    }\n",
       "\n",
       "    .dataframe tbody tr th {\n",
       "        vertical-align: top;\n",
       "    }\n",
       "\n",
       "    .dataframe thead th {\n",
       "        text-align: right;\n",
       "    }\n",
       "</style>\n",
       "<table border=\"1\" class=\"dataframe\">\n",
       "  <thead>\n",
       "    <tr style=\"text-align: right;\">\n",
       "      <th></th>\n",
       "      <th>temperature</th>\n",
       "      <th>var1</th>\n",
       "      <th>pressure</th>\n",
       "      <th>windspeed</th>\n",
       "      <th>electricity_consumption</th>\n",
       "    </tr>\n",
       "  </thead>\n",
       "  <tbody>\n",
       "    <tr>\n",
       "      <th>count</th>\n",
       "      <td>26496.000000</td>\n",
       "      <td>26496.000000</td>\n",
       "      <td>26496.000000</td>\n",
       "      <td>26496.000000</td>\n",
       "      <td>26496.000000</td>\n",
       "    </tr>\n",
       "    <tr>\n",
       "      <th>mean</th>\n",
       "      <td>5.098989</td>\n",
       "      <td>-1.916233</td>\n",
       "      <td>986.450615</td>\n",
       "      <td>23.959956</td>\n",
       "      <td>298.359601</td>\n",
       "    </tr>\n",
       "    <tr>\n",
       "      <th>std</th>\n",
       "      <td>8.682860</td>\n",
       "      <td>10.424860</td>\n",
       "      <td>12.002647</td>\n",
       "      <td>48.280321</td>\n",
       "      <td>108.020555</td>\n",
       "    </tr>\n",
       "    <tr>\n",
       "      <th>min</th>\n",
       "      <td>-17.100000</td>\n",
       "      <td>-32.900000</td>\n",
       "      <td>953.000000</td>\n",
       "      <td>1.075000</td>\n",
       "      <td>174.000000</td>\n",
       "    </tr>\n",
       "    <tr>\n",
       "      <th>25%</th>\n",
       "      <td>-2.900000</td>\n",
       "      <td>-10.700000</td>\n",
       "      <td>978.000000</td>\n",
       "      <td>3.155000</td>\n",
       "      <td>219.000000</td>\n",
       "    </tr>\n",
       "    <tr>\n",
       "      <th>50%</th>\n",
       "      <td>6.400000</td>\n",
       "      <td>-1.400000</td>\n",
       "      <td>986.000000</td>\n",
       "      <td>6.545000</td>\n",
       "      <td>267.000000</td>\n",
       "    </tr>\n",
       "    <tr>\n",
       "      <th>75%</th>\n",
       "      <td>12.100000</td>\n",
       "      <td>7.900000</td>\n",
       "      <td>995.000000</td>\n",
       "      <td>22.260000</td>\n",
       "      <td>342.000000</td>\n",
       "    </tr>\n",
       "    <tr>\n",
       "      <th>max</th>\n",
       "      <td>23.600000</td>\n",
       "      <td>18.600000</td>\n",
       "      <td>1024.000000</td>\n",
       "      <td>586.600000</td>\n",
       "      <td>1386.000000</td>\n",
       "    </tr>\n",
       "  </tbody>\n",
       "</table>\n",
       "</div>"
      ],
      "text/plain": [
       "        temperature          var1      pressure     windspeed  \\\n",
       "count  26496.000000  26496.000000  26496.000000  26496.000000   \n",
       "mean       5.098989     -1.916233    986.450615     23.959956   \n",
       "std        8.682860     10.424860     12.002647     48.280321   \n",
       "min      -17.100000    -32.900000    953.000000      1.075000   \n",
       "25%       -2.900000    -10.700000    978.000000      3.155000   \n",
       "50%        6.400000     -1.400000    986.000000      6.545000   \n",
       "75%       12.100000      7.900000    995.000000     22.260000   \n",
       "max       23.600000     18.600000   1024.000000    586.600000   \n",
       "\n",
       "       electricity_consumption  \n",
       "count             26496.000000  \n",
       "mean                298.359601  \n",
       "std                 108.020555  \n",
       "min                 174.000000  \n",
       "25%                 219.000000  \n",
       "50%                 267.000000  \n",
       "75%                 342.000000  \n",
       "max                1386.000000  "
      ]
     },
     "execution_count": 272,
     "metadata": {},
     "output_type": "execute_result"
    }
   ],
   "source": [
    "data.describe(include=['float64'])"
   ]
  },
  {
   "cell_type": "code",
   "execution_count": 273,
   "metadata": {},
   "outputs": [
    {
     "data": {
      "text/plain": [
       "False"
      ]
     },
     "execution_count": 273,
     "metadata": {},
     "output_type": "execute_result"
    }
   ],
   "source": [
    "data.isna().values.any()"
   ]
  },
  {
   "cell_type": "code",
   "execution_count": 274,
   "metadata": {
    "scrolled": true
   },
   "outputs": [
    {
     "data": {
      "text/plain": [
       "False"
      ]
     },
     "execution_count": 274,
     "metadata": {},
     "output_type": "execute_result"
    }
   ],
   "source": [
    "data.isnull().values.any()"
   ]
  },
  {
   "cell_type": "code",
   "execution_count": 275,
   "metadata": {},
   "outputs": [],
   "source": [
    "data['year']=data.datetime.dt.year \n",
    "data['month']=data.datetime.dt.month \n",
    "data['day']=data.datetime.dt.day\n",
    "data['time']=data.datetime.dt.time"
   ]
  },
  {
   "cell_type": "code",
   "execution_count": 276,
   "metadata": {},
   "outputs": [],
   "source": [
    "data = data.drop(['datetime'], axis=1)"
   ]
  },
  {
   "cell_type": "code",
   "execution_count": 277,
   "metadata": {
    "scrolled": false
   },
   "outputs": [
    {
     "data": {
      "text/html": [
       "<div>\n",
       "<style scoped>\n",
       "    .dataframe tbody tr th:only-of-type {\n",
       "        vertical-align: middle;\n",
       "    }\n",
       "\n",
       "    .dataframe tbody tr th {\n",
       "        vertical-align: top;\n",
       "    }\n",
       "\n",
       "    .dataframe thead th {\n",
       "        text-align: right;\n",
       "    }\n",
       "</style>\n",
       "<table border=\"1\" class=\"dataframe\">\n",
       "  <thead>\n",
       "    <tr style=\"text-align: right;\">\n",
       "      <th></th>\n",
       "      <th>ID</th>\n",
       "      <th>temperature</th>\n",
       "      <th>var1</th>\n",
       "      <th>pressure</th>\n",
       "      <th>windspeed</th>\n",
       "      <th>var2</th>\n",
       "      <th>electricity_consumption</th>\n",
       "      <th>year</th>\n",
       "      <th>month</th>\n",
       "      <th>day</th>\n",
       "      <th>time</th>\n",
       "    </tr>\n",
       "  </thead>\n",
       "  <tbody>\n",
       "    <tr>\n",
       "      <th>0</th>\n",
       "      <td>0</td>\n",
       "      <td>-11.4</td>\n",
       "      <td>-17.1</td>\n",
       "      <td>1003.0</td>\n",
       "      <td>571.910</td>\n",
       "      <td>A</td>\n",
       "      <td>216.0</td>\n",
       "      <td>2013</td>\n",
       "      <td>7</td>\n",
       "      <td>1</td>\n",
       "      <td>00:00:00</td>\n",
       "    </tr>\n",
       "    <tr>\n",
       "      <th>1</th>\n",
       "      <td>1</td>\n",
       "      <td>-12.1</td>\n",
       "      <td>-19.3</td>\n",
       "      <td>996.0</td>\n",
       "      <td>575.040</td>\n",
       "      <td>A</td>\n",
       "      <td>210.0</td>\n",
       "      <td>2013</td>\n",
       "      <td>7</td>\n",
       "      <td>1</td>\n",
       "      <td>01:00:00</td>\n",
       "    </tr>\n",
       "    <tr>\n",
       "      <th>2</th>\n",
       "      <td>2</td>\n",
       "      <td>-12.9</td>\n",
       "      <td>-20.0</td>\n",
       "      <td>1000.0</td>\n",
       "      <td>578.435</td>\n",
       "      <td>A</td>\n",
       "      <td>225.0</td>\n",
       "      <td>2013</td>\n",
       "      <td>7</td>\n",
       "      <td>1</td>\n",
       "      <td>02:00:00</td>\n",
       "    </tr>\n",
       "    <tr>\n",
       "      <th>3</th>\n",
       "      <td>3</td>\n",
       "      <td>-11.4</td>\n",
       "      <td>-17.1</td>\n",
       "      <td>995.0</td>\n",
       "      <td>582.580</td>\n",
       "      <td>A</td>\n",
       "      <td>216.0</td>\n",
       "      <td>2013</td>\n",
       "      <td>7</td>\n",
       "      <td>1</td>\n",
       "      <td>03:00:00</td>\n",
       "    </tr>\n",
       "    <tr>\n",
       "      <th>4</th>\n",
       "      <td>4</td>\n",
       "      <td>-11.4</td>\n",
       "      <td>-19.3</td>\n",
       "      <td>1005.0</td>\n",
       "      <td>586.600</td>\n",
       "      <td>A</td>\n",
       "      <td>222.0</td>\n",
       "      <td>2013</td>\n",
       "      <td>7</td>\n",
       "      <td>1</td>\n",
       "      <td>04:00:00</td>\n",
       "    </tr>\n",
       "  </tbody>\n",
       "</table>\n",
       "</div>"
      ],
      "text/plain": [
       "   ID  temperature  var1  pressure  windspeed var2  electricity_consumption  \\\n",
       "0   0        -11.4 -17.1    1003.0    571.910    A                    216.0   \n",
       "1   1        -12.1 -19.3     996.0    575.040    A                    210.0   \n",
       "2   2        -12.9 -20.0    1000.0    578.435    A                    225.0   \n",
       "3   3        -11.4 -17.1     995.0    582.580    A                    216.0   \n",
       "4   4        -11.4 -19.3    1005.0    586.600    A                    222.0   \n",
       "\n",
       "   year  month  day      time  \n",
       "0  2013      7    1  00:00:00  \n",
       "1  2013      7    1  01:00:00  \n",
       "2  2013      7    1  02:00:00  \n",
       "3  2013      7    1  03:00:00  \n",
       "4  2013      7    1  04:00:00  "
      ]
     },
     "execution_count": 277,
     "metadata": {},
     "output_type": "execute_result"
    }
   ],
   "source": [
    "data.head()"
   ]
  },
  {
   "cell_type": "markdown",
   "metadata": {},
   "source": [
    "# <brc>"
   ]
  },
  {
   "cell_type": "markdown",
   "metadata": {},
   "source": [
    "## Exploratory data analysis"
   ]
  },
  {
   "cell_type": "markdown",
   "metadata": {},
   "source": [
    "### Distribution of the dataset using Density Plot "
   ]
  },
  {
   "cell_type": "code",
   "execution_count": 45,
   "metadata": {},
   "outputs": [
    {
     "data": {
      "image/png": "[encoded data removed]",
      "text/plain": [
       "<matplotlib.figure.Figure at 0x2bb09e12240>"
      ]
     },
     "metadata": {},
     "output_type": "display_data"
    }
   ],
   "source": [
    "f, axes = plt.subplots(3, 3, figsize=(15, 10), \n",
    "                       sharex=False, sharey=False)\n",
    "\n",
    "# colormap\n",
    "s = np.linspace(0, 3, 10)\n",
    "cmap = sns.cubehelix_palette(start=0.0, light=1, as_cmap=True)\n",
    "\n",
    "# electricity consumption by each year\n",
    "x = data['year'].values\n",
    "y = data['electricity_consumption'].values\n",
    "sns.kdeplot(x, y, cmap=cmap, shade=True, cut=5, ax=axes[0,0])\n",
    "axes[0,0].set( title = 'electricity consumption by each year')\n",
    "\n",
    "cmap = sns.cubehelix_palette(start=0.333333333333, light=1, as_cmap=True)\n",
    "\n",
    "# electricity consumption by month\n",
    "x = data['month'].values\n",
    "y = data['electricity_consumption'].values\n",
    "sns.kdeplot(x, y, cmap=cmap, shade=True, ax=axes[0,1])\n",
    "axes[0,1].set( title = 'electricity consumption by month')\n",
    "\n",
    "cmap = sns.cubehelix_palette(start=0.666666666667, light=1, as_cmap=True)\n",
    "\n",
    "# electricity consumption by day\n",
    "x = data['day'].values\n",
    "y = data['electricity_consumption'].values\n",
    "sns.kdeplot(x, y, cmap=cmap, shade=True, ax=axes[0,2])\n",
    "axes[0,2].set( title = 'electricity consumption by day')\n",
    "\n",
    "cmap = sns.cubehelix_palette(start=1.0, light=1, as_cmap=True)\n",
    "\n",
    "# var1 agianst windspeed\n",
    "x = data['var1'].values\n",
    "y = data['windspeed'].values\n",
    "sns.kdeplot(x, y, cmap=cmap, shade=True,  ax=axes[1,0])\n",
    "axes[1,0].set( title = 'var1 agianst windspeed')\n",
    "\n",
    "cmap = sns.cubehelix_palette(start=1.333333333333, light=1, as_cmap=True)\n",
    "\n",
    "# electricity consumption by temperature\n",
    "x = data['temperature'].values\n",
    "y = data['electricity_consumption'].values\n",
    "sns.kdeplot(x, y, cmap=cmap, shade=True,  ax=axes[1,1])\n",
    "axes[1,1].set( title = 'electricity consumption by temperature')\n",
    "\n",
    "cmap = sns.cubehelix_palette(start=1.666666666667, light=1, as_cmap=True)\n",
    "\n",
    "# electricity consumption by var1\n",
    "x = data['var1'].values\n",
    "y = data['electricity_consumption'].values\n",
    "sns.kdeplot(x, y, cmap=cmap, shade=True,  ax=axes[1,2])\n",
    "axes[1,2].set( title = 'electricity consumption by var1')\n",
    "\n",
    "cmap = sns.cubehelix_palette(start=2.0, light=1, as_cmap=True)\n",
    "\n",
    "# electricity consumption by pressure\n",
    "x = data['pressure'].values\n",
    "y = data['electricity_consumption'].values\n",
    "sns.kdeplot(x, y, cmap=cmap, shade=True,  ax=axes[2,0])\n",
    "axes[2,0].set( title = 'electricity consumption by pressure')\n",
    "\n",
    "cmap = sns.cubehelix_palette(start=2.333333333333, light=1, as_cmap=True)\n",
    "\n",
    "# electricity consumption by windspeed\n",
    "x = data['windspeed'].values\n",
    "y = data['electricity_consumption'].values\n",
    "sns.kdeplot(x, y, cmap=cmap, shade=True,  ax=axes[2,1])\n",
    "axes[2,1].set( title = 'electricity consumption by windspeed')\n",
    "\n",
    "cmap = sns.cubehelix_palette(start=2.666666666667, light=1, as_cmap=True)\n",
    "\n",
    "# temperature agianst pressure\n",
    "x = data['temperature'].values\n",
    "y = data['pressure'].values\n",
    "sns.kdeplot(x, y, cmap=cmap, shade=True,  ax=axes[2,2])\n",
    "axes[2,2].set( title = 'temperature agianst pressure')\n",
    "\n",
    "f.tight_layout()"
   ]
  },
  {
   "cell_type": "markdown",
   "metadata": {},
   "source": [
    "\n",
    "- The overall data has the information about electricity consumption from 2013 to 2017. \n",
    "- The electricity consumption data has the majority of data in the year 2014 to 2016\n",
    "- 2015 is a year where the electricity consumption is higher comparing to the rest of the years\n",
    "- The lowest electricity consumption was in the year 2017\n",
    "- Majority of months has the nearly the same average of consumption. \n",
    "- The first two months and last two months of the year have more electricity consumption comparing to the rest of the months.\n",
    "- The days from 15 to 20 have the lowest consumption comparing to the rest of the days in a month\n",
    "- The majority of the var1 is relais between windspeed of 10 where the minimum and maximum wind speed are from -20 to +20. \n",
    "- The wind speed  level 10 has a higher value of vr1 comparing to rest of the wind speed level\n",
    "- -5 degree has the highest electricity consumption\n",
    "- The average temperate level is 10 degree where the majority of data stands between the 8 to 15 degree Celsius temperature\n",
    "- Low wind speed has the highest reach of electricity  consumption and High windspeed has the low electricity consumption "
   ]
  },
  {
   "cell_type": "code",
   "execution_count": null,
   "metadata": {},
   "outputs": [],
   "source": []
  },
  {
   "cell_type": "code",
   "execution_count": 33,
   "metadata": {
    "scrolled": true
   },
   "outputs": [
    {
     "data": {
      "image/png": "[encoded data removed]",
      "text/plain": [
       "<matplotlib.figure.Figure at 0x2bb097e6390>"
      ]
     },
     "metadata": {},
     "output_type": "display_data"
    }
   ],
   "source": [
    "mean_group = data[['year','electricity_consumption']].groupby(['year'])['electricity_consumption'].mean()\n",
    "plt.plot(mean_group)\n",
    "plt.title('Average electricity consumption each year')\n",
    "plt.show()"
   ]
  },
  {
   "cell_type": "code",
   "execution_count": 219,
   "metadata": {},
   "outputs": [
    {
     "data": {
      "image/png": "[encoded data removed]",
      "text/plain": [
       "<matplotlib.figure.Figure at 0x2bb093f9a20>"
      ]
     },
     "metadata": {},
     "output_type": "display_data"
    }
   ],
   "source": [
    "mean_group = data[['month','electricity_consumption']].groupby(['month'])['electricity_consumption'].mean()\n",
    "plt.plot(mean_group)\n",
    "plt.title('Average electricity consumption each month')\n",
    "plt.show()"
   ]
  },
  {
   "cell_type": "markdown",
   "metadata": {},
   "source": [
    "# <brc>"
   ]
  },
  {
   "cell_type": "markdown",
   "metadata": {},
   "source": [
    "## Pearson Correlation Plot using the heat map"
   ]
  },
  {
   "cell_type": "code",
   "execution_count": 54,
   "metadata": {},
   "outputs": [
    {
     "data": {
      "application/vnd.plotly.v1+json": {
       "data": [
        {
         "colorscale": "Viridis",
         "opacity": 1,
         "reversescale": false,
         "text": true,
         "type": "heatmap",
         "x": [
          "day",
          "electricity_consumption",
          "month",
          "pressure",
          "temperature",
          "var1",
          "windspeed",
          "year"
         ],
         "y": [
          "day",
          "electricity_consumption",
          "month",
          "pressure",
          "temperature",
          "var1",
          "windspeed",
          "year"
         ],
         "z": [
          [
           1,
           0.09796389639046864,
           0,
           0.027012814216319927,
           -0.009645852962472617,
           0.023008899473799,
           -0.01958714811864852,
           0
          ],
          [
           0.09796389639046864,
           1,
           0.04076092604375595,
           0.0009066393195283732,
           -0.11725401094184403,
           0.13391351080781214,
           -0.23888291906177406,
           -0.019868532361911318
          ],
          [
           0,
           0.04076092604375595,
           1,
           0.04457813545172713,
           -0.185422377215913,
           -0.31337304304871877,
           0.07718785484128356,
           -0.35478743759344955
          ],
          [
           0.027012814216319927,
           0.0009066393195283732,
           0.04457813545172713,
           1,
           -0.7239385216901556,
           -0.6808208821448197,
           0.1713691148700536,
           -0.021243239577601606
          ],
          [
           -0.009645852962472617,
           -0.11725401094184403,
           -0.185422377215913,
           -0.7239385216901556,
           1,
           0.8114214701544558,
           -0.1620926060811879,
           0.11278538615572825
          ],
          [
           0.023008899473799,
           0.13391351080781214,
           -0.31337304304871877,
           -0.6808208821448197,
           0.8114214701544558,
           1,
           -0.2923045147170707,
           0.12514089659508346
          ],
          [
           -0.01958714811864852,
           -0.23888291906177406,
           0.07718785484128356,
           0.1713691148700536,
           -0.1620926060811879,
           -0.2923045147170707,
           1,
           -0.09463630509566792
          ],
          [
           0,
           -0.019868532361911318,
           -0.35478743759344955,
           -0.021243239577601606,
           0.11278538615572825,
           0.12514089659508346,
           -0.09463630509566792,
           1
          ]
         ]
        }
       ],
       "layout": {
        "height": 700,
        "title": "Pearson Correlation for Enquiry",
        "width": 800,
        "xaxis": {
         "nticks": 36,
         "ticks": ""
        },
        "yaxis": {
         "ticks": ""
        }
       }
      },
      "text/html": [
       "<div id=\"70dab349-dcea-457b-a671-70bee4b323fe\" style=\"height: 700px; width: 800px;\" class=\"plotly-graph-div\"></div><script type=\"text/javascript\">require([\"plotly\"], function(Plotly) { window.PLOTLYENV=window.PLOTLYENV || {};window.PLOTLYENV.BASE_URL=\"https://plot.ly\";Plotly.newPlot(\"70dab349-dcea-457b-a671-70bee4b323fe\", [{\"type\": \"heatmap\", \"z\": [[1.0, 0.09796389639046864, 0.0, 0.027012814216319927, -0.009645852962472617, 0.023008899473799, -0.01958714811864852, 0.0], [0.09796389639046864, 1.0, 0.04076092604375595, 0.0009066393195283732, -0.11725401094184403, 0.13391351080781214, -0.23888291906177406, -0.019868532361911318], [0.0, 0.04076092604375595, 1.0, 0.04457813545172713, -0.185422377215913, -0.31337304304871877, 0.07718785484128356, -0.35478743759344955], [0.027012814216319927, 0.0009066393195283732, 0.04457813545172713, 1.0, -0.7239385216901556, -0.6808208821448197, 0.1713691148700536, -0.021243239577601606], [-0.009645852962472617, -0.11725401094184403, -0.185422377215913, -0.7239385216901556, 1.0, 0.8114214701544558, -0.1620926060811879, 0.11278538615572825], [0.023008899473799, 0.13391351080781214, -0.31337304304871877, -0.6808208821448197, 0.8114214701544558, 1.0, -0.2923045147170707, 0.12514089659508346], [-0.01958714811864852, -0.23888291906177406, 0.07718785484128356, 0.1713691148700536, -0.1620926060811879, -0.2923045147170707, 1.0, -0.09463630509566792], [0.0, -0.019868532361911318, -0.35478743759344955, -0.021243239577601606, 0.11278538615572825, 0.12514089659508346, -0.09463630509566792, 1.0]], \"x\": [\"day\", \"electricity_consumption\", \"month\", \"pressure\", \"temperature\", \"var1\", \"windspeed\", \"year\"], \"y\": [\"day\", \"electricity_consumption\", \"month\", \"pressure\", \"temperature\", \"var1\", \"windspeed\", \"year\"], \"colorscale\": \"Viridis\", \"reversescale\": false, \"text\": true, \"opacity\": 1.0}], {\"title\": \"Pearson Correlation for Enquiry\", \"xaxis\": {\"ticks\": \"\", \"nticks\": 36}, \"yaxis\": {\"ticks\": \"\"}, \"width\": 800, \"height\": 700}, {\"showLink\": true, \"linkText\": \"Export to plot.ly\"})});</script>"
      ],
      "text/vnd.plotly.v1+html": [
       "<div id=\"70dab349-dcea-457b-a671-70bee4b323fe\" style=\"height: 700px; width: 800px;\" class=\"plotly-graph-div\"></div><script type=\"text/javascript\">require([\"plotly\"], function(Plotly) { window.PLOTLYENV=window.PLOTLYENV || {};window.PLOTLYENV.BASE_URL=\"https://plot.ly\";Plotly.newPlot(\"70dab349-dcea-457b-a671-70bee4b323fe\", [{\"type\": \"heatmap\", \"z\": [[1.0, 0.09796389639046864, 0.0, 0.027012814216319927, -0.009645852962472617, 0.023008899473799, -0.01958714811864852, 0.0], [0.09796389639046864, 1.0, 0.04076092604375595, 0.0009066393195283732, -0.11725401094184403, 0.13391351080781214, -0.23888291906177406, -0.019868532361911318], [0.0, 0.04076092604375595, 1.0, 0.04457813545172713, -0.185422377215913, -0.31337304304871877, 0.07718785484128356, -0.35478743759344955], [0.027012814216319927, 0.0009066393195283732, 0.04457813545172713, 1.0, -0.7239385216901556, -0.6808208821448197, 0.1713691148700536, -0.021243239577601606], [-0.009645852962472617, -0.11725401094184403, -0.185422377215913, -0.7239385216901556, 1.0, 0.8114214701544558, -0.1620926060811879, 0.11278538615572825], [0.023008899473799, 0.13391351080781214, -0.31337304304871877, -0.6808208821448197, 0.8114214701544558, 1.0, -0.2923045147170707, 0.12514089659508346], [-0.01958714811864852, -0.23888291906177406, 0.07718785484128356, 0.1713691148700536, -0.1620926060811879, -0.2923045147170707, 1.0, -0.09463630509566792], [0.0, -0.019868532361911318, -0.35478743759344955, -0.021243239577601606, 0.11278538615572825, 0.12514089659508346, -0.09463630509566792, 1.0]], \"x\": [\"day\", \"electricity_consumption\", \"month\", \"pressure\", \"temperature\", \"var1\", \"windspeed\", \"year\"], \"y\": [\"day\", \"electricity_consumption\", \"month\", \"pressure\", \"temperature\", \"var1\", \"windspeed\", \"year\"], \"colorscale\": \"Viridis\", \"reversescale\": false, \"text\": true, \"opacity\": 1.0}], {\"title\": \"Pearson Correlation for Enquiry\", \"xaxis\": {\"ticks\": \"\", \"nticks\": 36}, \"yaxis\": {\"ticks\": \"\"}, \"width\": 800, \"height\": 700}, {\"showLink\": true, \"linkText\": \"Export to plot.ly\"})});</script>"
      ]
     },
     "metadata": {},
     "output_type": "display_data"
    }
   ],
   "source": [
    "# creating a list of only numerical values\n",
    "categorical_data = []\n",
    "for col, value in data.iteritems():\n",
    "    if value.dtype == 'object':\n",
    "        categorical_data.append(col)\n",
    "\n",
    "        \n",
    "numerical_data = data.columns.difference(categorical_enquiry)\n",
    "numerical_data = numerical_data.drop(['ID','var2','time'])\n",
    "\n",
    "data1 = [go.Heatmap(\n",
    "        z=data[numerical_data].astype(float).corr().values,\n",
    "        x=data[numerical_data].columns.values,\n",
    "        y=data[numerical_data].columns.values,\n",
    "        colorscale='Viridis',reversescale = False,text = True ,opacity = 1.0)]\n",
    "\n",
    "\n",
    "layout = go.Layout(title='Pearson Correlation for Enquiry',xaxis = dict(ticks='', nticks=36),yaxis = dict(ticks='' ),\n",
    "                   width = 800, height = 700,)\n",
    "\n",
    "\n",
    "fig = go.Figure(data=data1, layout=layout)\n",
    "py.iplot(fig, filename='labelled-heatmap')"
   ]
  },
  {
   "cell_type": "markdown",
   "metadata": {},
   "source": [
    "- The correaltion map shows the highest correlation between var1 and temperature  \n",
    "- pressure and wind speed has the correaltion of 0.1713 \n",
    "- The pressure and temperature  has the correlation of -0.7239 between them"
   ]
  },
  {
   "cell_type": "markdown",
   "metadata": {},
   "source": [
    "# ML model "
   ]
  },
  {
   "cell_type": "markdown",
   "metadata": {},
   "source": [
    "## Feature Engineering using one hot encoding "
   ]
  },
  {
   "cell_type": "code",
   "execution_count": 278,
   "metadata": {},
   "outputs": [
    {
     "data": {
      "text/html": [
       "<div>\n",
       "<style scoped>\n",
       "    .dataframe tbody tr th:only-of-type {\n",
       "        vertical-align: middle;\n",
       "    }\n",
       "\n",
       "    .dataframe tbody tr th {\n",
       "        vertical-align: top;\n",
       "    }\n",
       "\n",
       "    .dataframe thead th {\n",
       "        text-align: right;\n",
       "    }\n",
       "</style>\n",
       "<table border=\"1\" class=\"dataframe\">\n",
       "  <thead>\n",
       "    <tr style=\"text-align: right;\">\n",
       "      <th></th>\n",
       "      <th>var2_A</th>\n",
       "      <th>var2_B</th>\n",
       "      <th>var2_C</th>\n",
       "    </tr>\n",
       "  </thead>\n",
       "  <tbody>\n",
       "    <tr>\n",
       "      <th>0</th>\n",
       "      <td>1</td>\n",
       "      <td>0</td>\n",
       "      <td>0</td>\n",
       "    </tr>\n",
       "    <tr>\n",
       "      <th>1</th>\n",
       "      <td>1</td>\n",
       "      <td>0</td>\n",
       "      <td>0</td>\n",
       "    </tr>\n",
       "    <tr>\n",
       "      <th>2</th>\n",
       "      <td>1</td>\n",
       "      <td>0</td>\n",
       "      <td>0</td>\n",
       "    </tr>\n",
       "  </tbody>\n",
       "</table>\n",
       "</div>"
      ],
      "text/plain": [
       "   var2_A  var2_B  var2_C\n",
       "0       1       0       0\n",
       "1       1       0       0\n",
       "2       1       0       0"
      ]
     },
     "execution_count": 278,
     "metadata": {},
     "output_type": "execute_result"
    }
   ],
   "source": [
    "original_cat = data.loc[:,['var2']]\n",
    "original_cat = pd.get_dummies(original_cat)\n",
    "original_cat.head(3)\n"
   ]
  },
  {
   "cell_type": "code",
   "execution_count": 279,
   "metadata": {},
   "outputs": [],
   "source": [
    "original_num = data.drop(['electricity_consumption','var2','ID','time'], axis=1) # To remove the target column PerformanceRating "
   ]
  },
  {
   "cell_type": "code",
   "execution_count": 280,
   "metadata": {},
   "outputs": [
    {
     "data": {
      "text/html": [
       "<div>\n",
       "<style scoped>\n",
       "    .dataframe tbody tr th:only-of-type {\n",
       "        vertical-align: middle;\n",
       "    }\n",
       "\n",
       "    .dataframe tbody tr th {\n",
       "        vertical-align: top;\n",
       "    }\n",
       "\n",
       "    .dataframe thead th {\n",
       "        text-align: right;\n",
       "    }\n",
       "</style>\n",
       "<table border=\"1\" class=\"dataframe\">\n",
       "  <thead>\n",
       "    <tr style=\"text-align: right;\">\n",
       "      <th></th>\n",
       "      <th>temperature</th>\n",
       "      <th>var1</th>\n",
       "      <th>pressure</th>\n",
       "      <th>windspeed</th>\n",
       "      <th>year</th>\n",
       "      <th>month</th>\n",
       "      <th>day</th>\n",
       "      <th>var2_A</th>\n",
       "      <th>var2_B</th>\n",
       "      <th>var2_C</th>\n",
       "    </tr>\n",
       "  </thead>\n",
       "  <tbody>\n",
       "    <tr>\n",
       "      <th>0</th>\n",
       "      <td>-11.4</td>\n",
       "      <td>-17.1</td>\n",
       "      <td>1003.0</td>\n",
       "      <td>571.910</td>\n",
       "      <td>2013</td>\n",
       "      <td>7</td>\n",
       "      <td>1</td>\n",
       "      <td>1</td>\n",
       "      <td>0</td>\n",
       "      <td>0</td>\n",
       "    </tr>\n",
       "    <tr>\n",
       "      <th>1</th>\n",
       "      <td>-12.1</td>\n",
       "      <td>-19.3</td>\n",
       "      <td>996.0</td>\n",
       "      <td>575.040</td>\n",
       "      <td>2013</td>\n",
       "      <td>7</td>\n",
       "      <td>1</td>\n",
       "      <td>1</td>\n",
       "      <td>0</td>\n",
       "      <td>0</td>\n",
       "    </tr>\n",
       "    <tr>\n",
       "      <th>2</th>\n",
       "      <td>-12.9</td>\n",
       "      <td>-20.0</td>\n",
       "      <td>1000.0</td>\n",
       "      <td>578.435</td>\n",
       "      <td>2013</td>\n",
       "      <td>7</td>\n",
       "      <td>1</td>\n",
       "      <td>1</td>\n",
       "      <td>0</td>\n",
       "      <td>0</td>\n",
       "    </tr>\n",
       "  </tbody>\n",
       "</table>\n",
       "</div>"
      ],
      "text/plain": [
       "   temperature  var1  pressure  windspeed  year  month  day  var2_A  var2_B  \\\n",
       "0        -11.4 -17.1    1003.0    571.910  2013      7    1       1       0   \n",
       "1        -12.1 -19.3     996.0    575.040  2013      7    1       1       0   \n",
       "2        -12.9 -20.0    1000.0    578.435  2013      7    1       1       0   \n",
       "\n",
       "   var2_C  \n",
       "0       0  \n",
       "1       0  \n",
       "2       0  "
      ]
     },
     "execution_count": 280,
     "metadata": {},
     "output_type": "execute_result"
    }
   ],
   "source": [
    "# Concat the two dataframes together columnwise\n",
    "original_final = pd.concat([original_num, original_cat], axis=1)\n",
    "original_final.head(3)"
   ]
  },
  {
   "cell_type": "markdown",
   "metadata": {},
   "source": [
    "# <brc>"
   ]
  },
  {
   "cell_type": "code",
   "execution_count": 281,
   "metadata": {},
   "outputs": [],
   "source": [
    "# Import the train_test_split method\n",
    "from sklearn.cross_validation import train_test_split\n",
    "\n",
    "\n",
    "target = data.loc[:,['electricity_consumption']] \n",
    "\n",
    "\n",
    "train, test, target_train, target_test = train_test_split(original_final, target,  test_size = 0.3 , random_state = 0);"
   ]
  },
  {
   "cell_type": "code",
   "execution_count": 282,
   "metadata": {},
   "outputs": [],
   "source": [
    "from sklearn.linear_model import LinearRegression\n",
    "from sklearn.metrics import r2_score\n",
    "model_lr = LinearRegression()"
   ]
  },
  {
   "cell_type": "code",
   "execution_count": 283,
   "metadata": {},
   "outputs": [
    {
     "name": "stdout",
     "output_type": "stream",
     "text": [
      "Fitting Time:0.016000032424926758\n"
     ]
    }
   ],
   "source": [
    "import time\n",
    "start = time.time()\n",
    "\n",
    "model_lr.fit(train, target_train)\n",
    "\n",
    "end = time.time()\n",
    "total = end-start\n",
    "print(\"Fitting Time:%s\" % total)"
   ]
  },
  {
   "cell_type": "code",
   "execution_count": 284,
   "metadata": {},
   "outputs": [
    {
     "name": "stdout",
     "output_type": "stream",
     "text": [
      "Predictions finished\n"
     ]
    }
   ],
   "source": [
    "y_predict = model_lr.predict(test)\n",
    "print(\"Predictions finished\")"
   ]
  },
  {
   "cell_type": "code",
   "execution_count": 285,
   "metadata": {},
   "outputs": [
    {
     "data": {
      "text/plain": [
       "0.22529535190808803"
      ]
     },
     "execution_count": 285,
     "metadata": {},
     "output_type": "execute_result"
    }
   ],
   "source": [
    "r2_score(target_test, y_predict) # shows the accuracy of the predicted data "
   ]
  },
  {
   "cell_type": "markdown",
   "metadata": {},
   "source": [
    "## Feature Ranking via the Random Forest\n"
   ]
  },
  {
   "cell_type": "code",
   "execution_count": 259,
   "metadata": {
    "scrolled": false
   },
   "outputs": [
    {
     "data": {
      "application/vnd.plotly.v1+json": {
       "data": [
        {
         "marker": {
          "color": [
           0.14645279920408213,
           0.19638020517370872,
           0.14534362356174124,
           0.21822115714351728,
           0.06832324840652984,
           0.08881212304879713,
           0.12120931146587338,
           0.006803260862712337,
           0.0026682904767387113,
           0.005785980656299205
          ],
          "colorscale": "Portland",
          "showscale": true,
          "size": 13,
          "sizemode": "diameter",
          "sizeref": 1
         },
         "mode": "markers",
         "text": [
          "temperature",
          "var1",
          "pressure",
          "windspeed",
          "year",
          "month",
          "day",
          "var2_A",
          "var2_B",
          "var2_C"
         ],
         "type": "scatter",
         "x": [
          "temperature",
          "var1",
          "pressure",
          "windspeed",
          "year",
          "month",
          "day",
          "var2_A",
          "var2_B",
          "var2_C"
         ],
         "y": [
          0.14645279920408213,
          0.19638020517370872,
          0.14534362356174124,
          0.21822115714351728,
          0.06832324840652984,
          0.08881212304879713,
          0.12120931146587338,
          0.006803260862712337,
          0.0026682904767387113,
          0.005785980656299205
         ]
        }
       ],
       "layout": {
        "autosize": true,
        "hovermode": "closest",
        "showlegend": false,
        "title": "Random Forest Feature Importance",
        "xaxis": {
         "showgrid": false,
         "showline": false,
         "ticklen": 5,
         "zeroline": false
        },
        "yaxis": {
         "gridwidth": 2,
         "showgrid": false,
         "ticklen": 5,
         "title": "Feature Importance Level",
         "zeroline": false
        }
       }
      },
      "text/html": [
       "<div id=\"841a3ea8-79e9-44c1-9847-e7879a61737b\" style=\"height: 525px; width: 100%;\" class=\"plotly-graph-div\"></div><script type=\"text/javascript\">require([\"plotly\"], function(Plotly) { window.PLOTLYENV=window.PLOTLYENV || {};window.PLOTLYENV.BASE_URL=\"https://plot.ly\";Plotly.newPlot(\"841a3ea8-79e9-44c1-9847-e7879a61737b\", [{\"type\": \"scatter\", \"y\": [0.14645279920408213, 0.19638020517370872, 0.14534362356174124, 0.21822115714351728, 0.06832324840652984, 0.08881212304879713, 0.12120931146587338, 0.006803260862712337, 0.0026682904767387113, 0.005785980656299205], \"x\": [\"temperature\", \"var1\", \"pressure\", \"windspeed\", \"year\", \"month\", \"day\", \"var2_A\", \"var2_B\", \"var2_C\"], \"mode\": \"markers\", \"marker\": {\"sizemode\": \"diameter\", \"sizeref\": 1, \"size\": 13, \"color\": [0.14645279920408213, 0.19638020517370872, 0.14534362356174124, 0.21822115714351728, 0.06832324840652984, 0.08881212304879713, 0.12120931146587338, 0.006803260862712337, 0.0026682904767387113, 0.005785980656299205], \"colorscale\": \"Portland\", \"showscale\": true}, \"text\": [\"temperature\", \"var1\", \"pressure\", \"windspeed\", \"year\", \"month\", \"day\", \"var2_A\", \"var2_B\", \"var2_C\"]}], {\"autosize\": true, \"title\": \"Random Forest Feature Importance\", \"hovermode\": \"closest\", \"xaxis\": {\"ticklen\": 5, \"showgrid\": false, \"zeroline\": false, \"showline\": false}, \"yaxis\": {\"title\": \"Feature Importance Level\", \"showgrid\": false, \"zeroline\": false, \"ticklen\": 5, \"gridwidth\": 2}, \"showlegend\": false}, {\"showLink\": true, \"linkText\": \"Export to plot.ly\"})});</script>"
      ],
      "text/vnd.plotly.v1+html": [
       "<div id=\"841a3ea8-79e9-44c1-9847-e7879a61737b\" style=\"height: 525px; width: 100%;\" class=\"plotly-graph-div\"></div><script type=\"text/javascript\">require([\"plotly\"], function(Plotly) { window.PLOTLYENV=window.PLOTLYENV || {};window.PLOTLYENV.BASE_URL=\"https://plot.ly\";Plotly.newPlot(\"841a3ea8-79e9-44c1-9847-e7879a61737b\", [{\"type\": \"scatter\", \"y\": [0.14645279920408213, 0.19638020517370872, 0.14534362356174124, 0.21822115714351728, 0.06832324840652984, 0.08881212304879713, 0.12120931146587338, 0.006803260862712337, 0.0026682904767387113, 0.005785980656299205], \"x\": [\"temperature\", \"var1\", \"pressure\", \"windspeed\", \"year\", \"month\", \"day\", \"var2_A\", \"var2_B\", \"var2_C\"], \"mode\": \"markers\", \"marker\": {\"sizemode\": \"diameter\", \"sizeref\": 1, \"size\": 13, \"color\": [0.14645279920408213, 0.19638020517370872, 0.14534362356174124, 0.21822115714351728, 0.06832324840652984, 0.08881212304879713, 0.12120931146587338, 0.006803260862712337, 0.0026682904767387113, 0.005785980656299205], \"colorscale\": \"Portland\", \"showscale\": true}, \"text\": [\"temperature\", \"var1\", \"pressure\", \"windspeed\", \"year\", \"month\", \"day\", \"var2_A\", \"var2_B\", \"var2_C\"]}], {\"autosize\": true, \"title\": \"Random Forest Feature Importance\", \"hovermode\": \"closest\", \"xaxis\": {\"ticklen\": 5, \"showgrid\": false, \"zeroline\": false, \"showline\": false}, \"yaxis\": {\"title\": \"Feature Importance Level\", \"showgrid\": false, \"zeroline\": false, \"ticklen\": 5, \"gridwidth\": 2}, \"showlegend\": false}, {\"showLink\": true, \"linkText\": \"Export to plot.ly\"})});</script>"
      ]
     },
     "metadata": {},
     "output_type": "display_data"
    }
   ],
   "source": [
    "# Scatter plot \n",
    "trace = go.Scatter(\n",
    "    y = rf.feature_importances_,\n",
    "    x = original_final.columns.values,\n",
    "    mode='markers',\n",
    "    marker=dict(\n",
    "        sizemode = 'diameter',\n",
    "        sizeref = 1,\n",
    "        size = 13,\n",
    "        color = rf.feature_importances_,\n",
    "        colorscale='Portland',\n",
    "        showscale=True),text = original_final.columns.values)\n",
    "data = [trace]\n",
    "\n",
    "layout= go.Layout(\n",
    "    autosize= True,\n",
    "    title= 'Random Forest Feature Importance', hovermode= 'closest', \n",
    "    xaxis= dict(ticklen= 5,showgrid=False,zeroline=False,showline=False ),\n",
    "    yaxis=dict(title= 'Feature Importance Level',showgrid=False,zeroline=False,ticklen= 5,gridwidth= 2),\n",
    "    showlegend= False)\n",
    "fig = go.Figure(data=data, layout=layout)\n",
    "py.iplot(fig,filename='scatter2010')"
   ]
  },
  {
   "cell_type": "code",
   "execution_count": null,
   "metadata": {},
   "outputs": [],
   "source": []
  }
 ],
 "metadata": {
  "kernelspec": {
   "display_name": "Python 3",
   "language": "python",
   "name": "python3"
  },
  "language_info": {
   "codemirror_mode": {
    "name": "ipython",
    "version": 3
   },
   "file_extension": ".py",
   "mimetype": "text/x-python",
   "name": "python",
   "nbconvert_exporter": "python",
   "pygments_lexer": "ipython3",
   "version": "3.6.4"
  }
 },
 "nbformat": 4,
 "nbformat_minor": 2
}
